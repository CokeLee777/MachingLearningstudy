{
 "cells": [
  {
   "cell_type": "code",
   "execution_count": 5,
   "metadata": {},
   "outputs": [
    {
     "data": {
      "text/plain": [
       "[['시간', '온도', '습도'],\n",
       " ['30.02H', '18.2', '81'],\n",
       " ['30.01H', '18.4', '78'],\n",
       " ['30.00H', '18.8', '77'],\n",
       " ['29.23H', '19.2', '74'],\n",
       " ['29.22H', '19.5', '71'],\n",
       " ['29.21H', '19.9', '70'],\n",
       " ['29.20H', '20.5', '67'],\n",
       " ['29.19H', '21.1', '61'],\n",
       " ['29.18H', '21.8', '56'],\n",
       " ['29.17H', '22.7', '52'],\n",
       " ['29.16H', '23.7', '51'],\n",
       " ['29.15H', '23.2', '48'],\n",
       " ['29.14H', '22.7', '49'],\n",
       " ['29.13H', '22.5', '46'],\n",
       " ['29.12H', '22.9', '50'],\n",
       " ['29.11H', '22.0', '57'],\n",
       " ['29.10H', '20.1', '71'],\n",
       " ['29.09H', '17.8', '80'],\n",
       " ['29.08H', '16.3', '84'],\n",
       " ['29.07H', '15.4', '85'],\n",
       " ['29.06H', '15.5', '84'],\n",
       " ['29.05H', '16.0', '81'],\n",
       " ['29.04H', '16.5', '78'],\n",
       " ['29.03H', '17.0', '76'],\n",
       " ['29.02H', '17.8', '80'],\n",
       " ['29.01H', '18.4', '78'],\n",
       " ['29.00H', '19.0', '75'],\n",
       " ['28.23H', '19.1', '67'],\n",
       " ['28.22H', '19.7', '66'],\n",
       " ['28.21H', '20.2', '66'],\n",
       " ['28.20H', '21.3', '61'],\n",
       " ['28.19H', '22.2', '56'],\n",
       " ['28.18H', '23.4', '53'],\n",
       " ['28.17H', '24.8', '50'],\n",
       " ['28.16H', '26.3', '44'],\n",
       " ['28.15H', '26.3', '43'],\n",
       " ['28.14H', '25.8', '46'],\n",
       " ['28.13H', '24.8', '48'],\n",
       " ['28.12H', '25.0', '54'],\n",
       " ['28.11H', '23.1', '60'],\n",
       " ['28.10H', '21.4', '67'],\n",
       " ['28.09H', '19.3', '72'],\n",
       " ['28.08H', '17.0', '82'],\n",
       " ['28.07H', '15.7', '85'],\n",
       " ['28.06H', '15.8', '86'],\n",
       " ['28.05H', '16.0', '84'],\n",
       " ['28.04H', '16.1', '82'],\n",
       " ['28.03H', '16.7', '79']]"
      ]
     },
     "execution_count": 5,
     "metadata": {},
     "output_type": "execute_result"
    }
   ],
   "source": [
    "import requests                  # 웹 페이지의 HTML을 가져오는 모듈\n",
    "from bs4 import BeautifulSoup    # HTML을 파싱하는 모듈\n",
    " \n",
    "# 웹 페이지를 가져온 뒤 BeautifulSoup 객체로 만듦\n",
    "response = requests.get('https://www.weather.go.kr/weather/observation/currentweather.jsp?tm=2020.9.30.2:00&type=t99&mode=0&reg=100&auto_man=m&stn=108')\n",
    "soup = BeautifulSoup(response.content, 'html.parser')\n",
    " \n",
    "table = soup.find('table', { 'class': 'table_develop3' })    # <table class=\"table_develop3\">을 찾음\n",
    "data = [['시간','온도','습도']]                            # 데이터를 저장할 리스트 생성\n",
    "for tr in table.find_all('tr'):      # 모든 <tr> 태그를 찾아서 반복(각 지점의 데이터를 가져옴)\n",
    "    tds = list(tr.find_all('td'))    # 모든 <td> 태그를 찾아서 리스트로 만듦\n",
    "                                     # (각 날씨 값을 리스트로 만듦)\n",
    "    for td in tds:                   # <td> 태그 리스트 반복(각 날씨 값을 가져옴)\n",
    "        if td.find('a'):             # <td> 안에 <a> 태그가 있으면(지점인지 확인)\n",
    "            point = td.find('a').text    # <a> 태그 안에서 지점을 가져옴\n",
    "            temperature = tds[5].text    # <td> 태그 리스트의 여섯 번째(인덱스 5)에서 기온을 가져옴\n",
    "            humidity = tds[9].text       # <td> 태그 리스트의 열 번째(인덱스 9)에서 습도를 가져옴\n",
    "            data.append([point, temperature, humidity])    # data 리스트에 지점, 기온, 습도를 추가\n",
    " \n",
    "data    # data 표시. 주피터 노트북에서는 print를 사용하지 않아도 변수의 값이 표시됨"
   ]
  },
  {
   "cell_type": "code",
   "execution_count": null,
   "metadata": {},
   "outputs": [],
   "source": [
    "with open('Seoul_weather.csv', 'w') as file:    # weather.csv 파일을 쓰기 모드로 열기\n",
    "    file.write('time,erature,humidity\\n')                  # 컬럼 이름 추가\n",
    "    for i in data:                                              # data를 반복하면서\n",
    "        file.write('{0},{1},{2}\\n'.format(i[0], i[1], i[2]))    # 지점,온도,습도를 줄 단위로 저장"
   ]
  }
 ],
 "metadata": {
  "kernelspec": {
   "display_name": "Python 3",
   "language": "python",
   "name": "python3"
  },
  "language_info": {
   "codemirror_mode": {
    "name": "ipython",
    "version": 3
   },
   "file_extension": ".py",
   "mimetype": "text/x-python",
   "name": "python",
   "nbconvert_exporter": "python",
   "pygments_lexer": "ipython3",
   "version": "3.7.6"
  }
 },
 "nbformat": 4,
 "nbformat_minor": 4
}
