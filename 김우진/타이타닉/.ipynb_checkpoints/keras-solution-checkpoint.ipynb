{
 "cells": [
  {
   "cell_type": "markdown",
   "metadata": {
    "_cell_guid": "58cca77d-7ab2-481d-8f4d-d3f2e0e3403b",
    "_uuid": "7bfc0d95eb9aed13c902d53b052f3f0d15dc679b"
   },
   "source": [
    "## Introduction\n",
    "\n",
    "In this tutorial we will use the popular Deep Learning library, `Keras`, and the visualization libraries `Matplotlib` and `Seaborn` to build a classifying simple model. The libraries `Numpy` and `Pandas` will help us along the way.\n",
    "\n",
    "## Data\n",
    "\n",
    "First, we will load our dataset using `pandas`."
   ]
  },
  {
   "cell_type": "code",
<<<<<<< Updated upstream
   "execution_count": null,
   "metadata": {
    "_cell_guid": "845bf7ca-89e8-4ff6-9728-163ddec1bc08",
    "_kg_hide-output": true,
    "_uuid": "12341bbfb5f534379f64fdb5e8fbd6d712a25bd8",
    "collapsed": true
   },
   "outputs": [],
=======
   "execution_count": 1,
   "metadata": {
    "_cell_guid": "845bf7ca-89e8-4ff6-9728-163ddec1bc08",
    "_kg_hide-output": true,
    "_uuid": "12341bbfb5f534379f64fdb5e8fbd6d712a25bd8"
   },
   "outputs": [
    {
     "ename": "FileNotFoundError",
     "evalue": "[Errno 2] File ../input/train.csv does not exist: '../input/train.csv'",
     "output_type": "error",
     "traceback": [
      "\u001b[1;31m---------------------------------------------------------------------------\u001b[0m",
      "\u001b[1;31mFileNotFoundError\u001b[0m                         Traceback (most recent call last)",
      "\u001b[1;32m<ipython-input-1-6a9415496255>\u001b[0m in \u001b[0;36m<module>\u001b[1;34m\u001b[0m\n\u001b[0;32m      1\u001b[0m \u001b[1;32mimport\u001b[0m \u001b[0mpandas\u001b[0m \u001b[1;32mas\u001b[0m \u001b[0mpd\u001b[0m\u001b[1;33m\u001b[0m\u001b[1;33m\u001b[0m\u001b[0m\n\u001b[0;32m      2\u001b[0m \u001b[1;33m\u001b[0m\u001b[0m\n\u001b[1;32m----> 3\u001b[1;33m \u001b[0mtrain_x\u001b[0m \u001b[1;33m=\u001b[0m \u001b[0mpd\u001b[0m\u001b[1;33m.\u001b[0m\u001b[0mread_csv\u001b[0m\u001b[1;33m(\u001b[0m\u001b[1;34m\"../input/train.csv\"\u001b[0m\u001b[1;33m,\u001b[0m \u001b[0msep\u001b[0m\u001b[1;33m=\u001b[0m\u001b[1;34m','\u001b[0m\u001b[1;33m)\u001b[0m\u001b[1;33m\u001b[0m\u001b[1;33m\u001b[0m\u001b[0m\n\u001b[0m\u001b[0;32m      4\u001b[0m \u001b[0mtest_x\u001b[0m \u001b[1;33m=\u001b[0m \u001b[0mpd\u001b[0m\u001b[1;33m.\u001b[0m\u001b[0mread_csv\u001b[0m\u001b[1;33m(\u001b[0m\u001b[1;34m\"../input/test.csv\"\u001b[0m\u001b[1;33m,\u001b[0m \u001b[0msep\u001b[0m\u001b[1;33m=\u001b[0m\u001b[1;34m','\u001b[0m\u001b[1;33m)\u001b[0m\u001b[1;33m\u001b[0m\u001b[1;33m\u001b[0m\u001b[0m\n",
      "\u001b[1;32mC:\\Users\\Dong In Jang\\anaconda3\\lib\\site-packages\\pandas\\io\\parsers.py\u001b[0m in \u001b[0;36mparser_f\u001b[1;34m(filepath_or_buffer, sep, delimiter, header, names, index_col, usecols, squeeze, prefix, mangle_dupe_cols, dtype, engine, converters, true_values, false_values, skipinitialspace, skiprows, skipfooter, nrows, na_values, keep_default_na, na_filter, verbose, skip_blank_lines, parse_dates, infer_datetime_format, keep_date_col, date_parser, dayfirst, cache_dates, iterator, chunksize, compression, thousands, decimal, lineterminator, quotechar, quoting, doublequote, escapechar, comment, encoding, dialect, error_bad_lines, warn_bad_lines, delim_whitespace, low_memory, memory_map, float_precision)\u001b[0m\n\u001b[0;32m    674\u001b[0m         )\n\u001b[0;32m    675\u001b[0m \u001b[1;33m\u001b[0m\u001b[0m\n\u001b[1;32m--> 676\u001b[1;33m         \u001b[1;32mreturn\u001b[0m \u001b[0m_read\u001b[0m\u001b[1;33m(\u001b[0m\u001b[0mfilepath_or_buffer\u001b[0m\u001b[1;33m,\u001b[0m \u001b[0mkwds\u001b[0m\u001b[1;33m)\u001b[0m\u001b[1;33m\u001b[0m\u001b[1;33m\u001b[0m\u001b[0m\n\u001b[0m\u001b[0;32m    677\u001b[0m \u001b[1;33m\u001b[0m\u001b[0m\n\u001b[0;32m    678\u001b[0m     \u001b[0mparser_f\u001b[0m\u001b[1;33m.\u001b[0m\u001b[0m__name__\u001b[0m \u001b[1;33m=\u001b[0m \u001b[0mname\u001b[0m\u001b[1;33m\u001b[0m\u001b[1;33m\u001b[0m\u001b[0m\n",
      "\u001b[1;32mC:\\Users\\Dong In Jang\\anaconda3\\lib\\site-packages\\pandas\\io\\parsers.py\u001b[0m in \u001b[0;36m_read\u001b[1;34m(filepath_or_buffer, kwds)\u001b[0m\n\u001b[0;32m    446\u001b[0m \u001b[1;33m\u001b[0m\u001b[0m\n\u001b[0;32m    447\u001b[0m     \u001b[1;31m# Create the parser.\u001b[0m\u001b[1;33m\u001b[0m\u001b[1;33m\u001b[0m\u001b[1;33m\u001b[0m\u001b[0m\n\u001b[1;32m--> 448\u001b[1;33m     \u001b[0mparser\u001b[0m \u001b[1;33m=\u001b[0m \u001b[0mTextFileReader\u001b[0m\u001b[1;33m(\u001b[0m\u001b[0mfp_or_buf\u001b[0m\u001b[1;33m,\u001b[0m \u001b[1;33m**\u001b[0m\u001b[0mkwds\u001b[0m\u001b[1;33m)\u001b[0m\u001b[1;33m\u001b[0m\u001b[1;33m\u001b[0m\u001b[0m\n\u001b[0m\u001b[0;32m    449\u001b[0m \u001b[1;33m\u001b[0m\u001b[0m\n\u001b[0;32m    450\u001b[0m     \u001b[1;32mif\u001b[0m \u001b[0mchunksize\u001b[0m \u001b[1;32mor\u001b[0m \u001b[0miterator\u001b[0m\u001b[1;33m:\u001b[0m\u001b[1;33m\u001b[0m\u001b[1;33m\u001b[0m\u001b[0m\n",
      "\u001b[1;32mC:\\Users\\Dong In Jang\\anaconda3\\lib\\site-packages\\pandas\\io\\parsers.py\u001b[0m in \u001b[0;36m__init__\u001b[1;34m(self, f, engine, **kwds)\u001b[0m\n\u001b[0;32m    878\u001b[0m             \u001b[0mself\u001b[0m\u001b[1;33m.\u001b[0m\u001b[0moptions\u001b[0m\u001b[1;33m[\u001b[0m\u001b[1;34m\"has_index_names\"\u001b[0m\u001b[1;33m]\u001b[0m \u001b[1;33m=\u001b[0m \u001b[0mkwds\u001b[0m\u001b[1;33m[\u001b[0m\u001b[1;34m\"has_index_names\"\u001b[0m\u001b[1;33m]\u001b[0m\u001b[1;33m\u001b[0m\u001b[1;33m\u001b[0m\u001b[0m\n\u001b[0;32m    879\u001b[0m \u001b[1;33m\u001b[0m\u001b[0m\n\u001b[1;32m--> 880\u001b[1;33m         \u001b[0mself\u001b[0m\u001b[1;33m.\u001b[0m\u001b[0m_make_engine\u001b[0m\u001b[1;33m(\u001b[0m\u001b[0mself\u001b[0m\u001b[1;33m.\u001b[0m\u001b[0mengine\u001b[0m\u001b[1;33m)\u001b[0m\u001b[1;33m\u001b[0m\u001b[1;33m\u001b[0m\u001b[0m\n\u001b[0m\u001b[0;32m    881\u001b[0m \u001b[1;33m\u001b[0m\u001b[0m\n\u001b[0;32m    882\u001b[0m     \u001b[1;32mdef\u001b[0m \u001b[0mclose\u001b[0m\u001b[1;33m(\u001b[0m\u001b[0mself\u001b[0m\u001b[1;33m)\u001b[0m\u001b[1;33m:\u001b[0m\u001b[1;33m\u001b[0m\u001b[1;33m\u001b[0m\u001b[0m\n",
      "\u001b[1;32mC:\\Users\\Dong In Jang\\anaconda3\\lib\\site-packages\\pandas\\io\\parsers.py\u001b[0m in \u001b[0;36m_make_engine\u001b[1;34m(self, engine)\u001b[0m\n\u001b[0;32m   1112\u001b[0m     \u001b[1;32mdef\u001b[0m \u001b[0m_make_engine\u001b[0m\u001b[1;33m(\u001b[0m\u001b[0mself\u001b[0m\u001b[1;33m,\u001b[0m \u001b[0mengine\u001b[0m\u001b[1;33m=\u001b[0m\u001b[1;34m\"c\"\u001b[0m\u001b[1;33m)\u001b[0m\u001b[1;33m:\u001b[0m\u001b[1;33m\u001b[0m\u001b[1;33m\u001b[0m\u001b[0m\n\u001b[0;32m   1113\u001b[0m         \u001b[1;32mif\u001b[0m \u001b[0mengine\u001b[0m \u001b[1;33m==\u001b[0m \u001b[1;34m\"c\"\u001b[0m\u001b[1;33m:\u001b[0m\u001b[1;33m\u001b[0m\u001b[1;33m\u001b[0m\u001b[0m\n\u001b[1;32m-> 1114\u001b[1;33m             \u001b[0mself\u001b[0m\u001b[1;33m.\u001b[0m\u001b[0m_engine\u001b[0m \u001b[1;33m=\u001b[0m \u001b[0mCParserWrapper\u001b[0m\u001b[1;33m(\u001b[0m\u001b[0mself\u001b[0m\u001b[1;33m.\u001b[0m\u001b[0mf\u001b[0m\u001b[1;33m,\u001b[0m \u001b[1;33m**\u001b[0m\u001b[0mself\u001b[0m\u001b[1;33m.\u001b[0m\u001b[0moptions\u001b[0m\u001b[1;33m)\u001b[0m\u001b[1;33m\u001b[0m\u001b[1;33m\u001b[0m\u001b[0m\n\u001b[0m\u001b[0;32m   1115\u001b[0m         \u001b[1;32melse\u001b[0m\u001b[1;33m:\u001b[0m\u001b[1;33m\u001b[0m\u001b[1;33m\u001b[0m\u001b[0m\n\u001b[0;32m   1116\u001b[0m             \u001b[1;32mif\u001b[0m \u001b[0mengine\u001b[0m \u001b[1;33m==\u001b[0m \u001b[1;34m\"python\"\u001b[0m\u001b[1;33m:\u001b[0m\u001b[1;33m\u001b[0m\u001b[1;33m\u001b[0m\u001b[0m\n",
      "\u001b[1;32mC:\\Users\\Dong In Jang\\anaconda3\\lib\\site-packages\\pandas\\io\\parsers.py\u001b[0m in \u001b[0;36m__init__\u001b[1;34m(self, src, **kwds)\u001b[0m\n\u001b[0;32m   1889\u001b[0m         \u001b[0mkwds\u001b[0m\u001b[1;33m[\u001b[0m\u001b[1;34m\"usecols\"\u001b[0m\u001b[1;33m]\u001b[0m \u001b[1;33m=\u001b[0m \u001b[0mself\u001b[0m\u001b[1;33m.\u001b[0m\u001b[0musecols\u001b[0m\u001b[1;33m\u001b[0m\u001b[1;33m\u001b[0m\u001b[0m\n\u001b[0;32m   1890\u001b[0m \u001b[1;33m\u001b[0m\u001b[0m\n\u001b[1;32m-> 1891\u001b[1;33m         \u001b[0mself\u001b[0m\u001b[1;33m.\u001b[0m\u001b[0m_reader\u001b[0m \u001b[1;33m=\u001b[0m \u001b[0mparsers\u001b[0m\u001b[1;33m.\u001b[0m\u001b[0mTextReader\u001b[0m\u001b[1;33m(\u001b[0m\u001b[0msrc\u001b[0m\u001b[1;33m,\u001b[0m \u001b[1;33m**\u001b[0m\u001b[0mkwds\u001b[0m\u001b[1;33m)\u001b[0m\u001b[1;33m\u001b[0m\u001b[1;33m\u001b[0m\u001b[0m\n\u001b[0m\u001b[0;32m   1892\u001b[0m         \u001b[0mself\u001b[0m\u001b[1;33m.\u001b[0m\u001b[0munnamed_cols\u001b[0m \u001b[1;33m=\u001b[0m \u001b[0mself\u001b[0m\u001b[1;33m.\u001b[0m\u001b[0m_reader\u001b[0m\u001b[1;33m.\u001b[0m\u001b[0munnamed_cols\u001b[0m\u001b[1;33m\u001b[0m\u001b[1;33m\u001b[0m\u001b[0m\n\u001b[0;32m   1893\u001b[0m \u001b[1;33m\u001b[0m\u001b[0m\n",
      "\u001b[1;32mpandas\\_libs\\parsers.pyx\u001b[0m in \u001b[0;36mpandas._libs.parsers.TextReader.__cinit__\u001b[1;34m()\u001b[0m\n",
      "\u001b[1;32mpandas\\_libs\\parsers.pyx\u001b[0m in \u001b[0;36mpandas._libs.parsers.TextReader._setup_parser_source\u001b[1;34m()\u001b[0m\n",
      "\u001b[1;31mFileNotFoundError\u001b[0m: [Errno 2] File ../input/train.csv does not exist: '../input/train.csv'"
     ]
    }
   ],
>>>>>>> Stashed changes
   "source": [
    "import pandas as pd\n",
    "\n",
    "train_x = pd.read_csv(\"../input/train.csv\", sep=',')\n",
    "test_x = pd.read_csv(\"../input/test.csv\", sep=',')"
   ]
  },
  {
   "cell_type": "markdown",
   "metadata": {
    "_cell_guid": "53b537c1-4496-4c18-822e-107b53c2ef39",
    "_uuid": "e913a5b72613f4fcaf80e93f076260feba2bff4f"
   },
   "source": [
    "Before we do anything else, let's see what our data looks like:"
   ]
  },
  {
   "cell_type": "code",
   "execution_count": null,
   "metadata": {
    "_cell_guid": "c0a0311d-b96f-4b7b-9838-7ce5bf9a4a7d",
    "_uuid": "4a861fa10dcc83f3b1bef9e5c77e5e43b9e87cfe",
    "collapsed": true
   },
   "outputs": [],
   "source": [
    "train_x.head(5)"
   ]
  },
  {
   "cell_type": "markdown",
   "metadata": {
    "_cell_guid": "b5d8d3de-a92d-4c41-ace8-e8b3bb91b949",
    "_uuid": "803038b3d33cb5247a4b0f6a2f043c0904a4a2f2"
   },
   "source": [
    "Looks good.\n",
    "\n",
    "We will now start thinking of which of these features we will use in our model. Also, since we can see some missing values, we will need to tidy our data up too. First, let's see how many rows have missing values:"
   ]
  },
  {
   "cell_type": "code",
   "execution_count": null,
   "metadata": {
    "_cell_guid": "e425f0a4-57c4-4334-b642-f30215e5cd88",
    "_uuid": "3410fa47024f9f7890a3d3746376a944d86c0eff",
    "collapsed": true
   },
   "outputs": [],
   "source": [
    "train_x.isnull().sum()"
   ]
  },
  {
   "cell_type": "markdown",
   "metadata": {
    "_cell_guid": "a67839ea-c697-4ef9-8caf-c8fa07df2aac",
    "_uuid": "d832bfc24a604c07184b3c6eae2581118d85fe8f"
   },
   "source": [
    "Indeed there are some values missing from 'Age', 'Cabin' and a couple of rows in 'Embarked'. We will take care of them after we pick our features. For now, let's visualize some data!"
   ]
  },
  {
   "cell_type": "markdown",
   "metadata": {
    "_cell_guid": "07ff16b1-d6ce-4982-9953-1b30599df5a1",
    "_uuid": "55def6fa987304df3297801d5019121ae38503c8"
   },
   "source": [
    "## Visualization\n",
    "\n",
    "To visualize our data, we will use `matplotlib` and `seaborn`.\n",
    "\n",
    "Intuitively, it makes sense that the class of the passenger ('Pclass') would play a big role in the passenger's survival. The same probably holds true for the sex of the passenger. If I remember correctly, in the movie *Titanic* we see that the ladies were embarking the lifeboats first.\n",
    "\n",
    "Let's see if these hypotheses are correct:"
   ]
  },
  {
   "cell_type": "code",
   "execution_count": null,
   "metadata": {
    "_cell_guid": "0eb9e452-c3c5-4508-ab56-0dd5375259f5",
    "_uuid": "de7e1083e23caf3aad44528d69d46d63677be945",
    "collapsed": true
   },
   "outputs": [],
   "source": [
    "import seaborn as sns\n",
    "import matplotlib.pyplot as plt\n",
    "\n",
    "sns.barplot(x=\"Pclass\", y=\"Survived\", data=train_x);"
   ]
  },
  {
   "cell_type": "markdown",
   "metadata": {
    "_cell_guid": "c64fcd5d-d0ec-46bd-ba9c-0eecd2b4aab6",
    "_uuid": "7aa3644ddd01c65b705753256f51488aa1aa4eab"
   },
   "source": [
    "From the above data we can see that more than 60% of 1st class passengers survived, while less that 30% of 3rd class did. Let's keep this in mind, 'Pclass' so far seems like a good estimator.\n",
    "\n",
    "Now to check the sex:"
   ]
  },
  {
   "cell_type": "code",
   "execution_count": null,
   "metadata": {
    "_cell_guid": "e1ed0cac-4b45-46d0-a705-b748e3761052",
    "_uuid": "3cb1cfc91342936a7ec638c71d90f0eed932183c",
    "collapsed": true
   },
   "outputs": [],
   "source": [
    "sns.barplot(x=\"Sex\", y=\"Survived\", data=train_x);"
   ]
  },
  {
   "cell_type": "markdown",
   "metadata": {
    "_cell_guid": "ecdac97c-d19a-4d51-9eb4-5f79d60352ef",
    "_uuid": "fbeb4339f58bb5ccadd50048809dc1066b686914"
   },
   "source": [
    "*Titanic* stands true, it seems. Ladies indeed got in the lifeboats first, with about 70% of them surviving, while men only had a 1 in 5 chance of survival.\n",
    "\n",
    "Let's now take a look at features like the number of siblings and spouses ('SibSp') and the type of the relationship ('Parch')'. These do not seem to be that relevant, but better to be safe than sorry."
   ]
  },
  {
   "cell_type": "code",
   "execution_count": null,
   "metadata": {
    "_cell_guid": "9c514c81-08d5-41b2-9638-5a303ef96e40",
    "_uuid": "7273ae0aa496df01d6e09a48deb4e9f3959a0b05",
    "collapsed": true
   },
   "outputs": [],
   "source": [
    "sns.barplot(x=\"SibSp\", y=\"Survived\", data=train_x);"
   ]
  },
  {
   "cell_type": "code",
   "execution_count": null,
   "metadata": {
    "_cell_guid": "2e335340-d30f-43ce-bb63-a80880769b2b",
    "_uuid": "ceaeb68759565c823fde55d477eccb1521168973",
    "collapsed": true
   },
   "outputs": [],
   "source": [
    "sns.barplot(x=\"Parch\", y=\"Survived\", data=train_x);"
   ]
  },
  {
   "cell_type": "markdown",
   "metadata": {
    "_cell_guid": "24593808-36ab-4f82-87ad-385832c5a1d1",
    "_uuid": "fd46d3854c94f47ade45d030481018020cb690a9"
   },
   "source": [
    "Something does seem to be going on with 'SibSp', but the differences are small so to keep our feature set small we will skip it. For 'Parch', there doesn't seem to be a connection.\n",
    "\n",
    "The 'Ticket' feature seems to be comprised of random alphanumericals, so we will skip it too.\n",
    "\n",
    "Next we will take a look at 'Age'. Intuitively it makes sense to use this as a feature, since it is likely that they let elders reach the lifeboats alongside women and children."
   ]
  },
  {
   "cell_type": "code",
   "execution_count": null,
   "metadata": {
    "_cell_guid": "0bb111ef-4a1f-476d-ac4e-a740df5e029a",
    "_uuid": "94f5e4fb61b87c788e84b1102bfb929201bc24f9",
    "collapsed": true
   },
   "outputs": [],
   "source": [
    "sns.barplot(x=\"Age\", y=\"Survived\", data=train_x);"
   ]
  },
  {
   "cell_type": "markdown",
   "metadata": {
    "_cell_guid": "bdc918c5-b3ca-4c66-8c69-7f12c5d9ccbd",
    "_uuid": "21bc1385d383f47a21fe7ed5c6772d4aeffb85eb"
   },
   "source": [
    "Unfortunately, it is a bit hard to visualize ages the way we did the rest of the features, since we have a lot of different samples. Here we can see that ages on both ends of the spectrum seem to fare better, but we need to get a closer look. We will 'bin-ify' the ages, grouping them to bins according to their value. So, ages closer together will appear as one and it will be easier to visualize.\n",
    "\n",
    "The function we will use will round the ages within a factor. To make our lives easier, we will use `numpy`.\n",
    "\n",
    "NOTE: We pass as argument not the array itself, but its (deep) copy because we don't want the values of the dataset itself to be changed."
   ]
  },
  {
   "cell_type": "code",
   "execution_count": null,
   "metadata": {
    "_cell_guid": "63591086-6766-432e-8630-c18c95c51343",
    "_uuid": "79f36b1f451b17cb3faf79cc443992c742f05c9c",
    "collapsed": true
   },
   "outputs": [],
   "source": [
    "import numpy as np\n",
    "\n",
    "def make_bins(d, col, factor=2):\n",
    "    rounding = lambda x: np.around(x / factor)\n",
    "    d[col] = d[col].apply(rounding)\n",
    "    return d\n",
    "\n",
    "t = make_bins(train_x.copy(True), 'Age', 7.5)\n",
    "sns.barplot(x=\"Age\", y=\"Survived\", data=t);"
   ]
  },
  {
   "cell_type": "markdown",
   "metadata": {
    "_cell_guid": "ba8d1a68-bcf3-424d-9167-380a72bb8d24",
    "_uuid": "43d3fb94a05dca485fcfac9952da58785ca20c5c"
   },
   "source": [
    "In the above case we round the ages up to a factor of `7.5`, and aside from the elders making it through, we don't get much information. Maybe we round too much? Let's try a smaller value:"
   ]
  },
  {
   "cell_type": "code",
   "execution_count": null,
   "metadata": {
    "_cell_guid": "3dcbb69d-5956-47b5-9623-7fd053b025c1",
    "_uuid": "41adb5525fe16afe0c3232eea6d1b9df1b432aca",
    "collapsed": true
   },
   "outputs": [],
   "source": [
    "t = make_bins(train_x.copy(True), 'Age', 5)\n",
    "sns.barplot(x=\"Age\", y=\"Survived\", data=t);"
   ]
  },
  {
   "cell_type": "markdown",
   "metadata": {
    "_cell_guid": "f68b7c22-eb0e-4f49-85ab-79d4d3f385db",
    "_uuid": "27fc7ba336fd8773282a17d7baa2f6367002aa74"
   },
   "source": [
    "There doesn't seem to be much correlation to survival rate, except on the opposite ends of the spectrum. Maybe age didn't play much of a role after all.\n",
    "\n",
    "Note that instead of creating the function `make_bins`, we could have used one of `seaborn`'s functions:"
   ]
  },
  {
   "cell_type": "code",
   "execution_count": null,
   "metadata": {
    "_cell_guid": "2dff7832-8d59-4c98-8c86-d64da193bc31",
    "_uuid": "e4ae25b642e37e1523811b166d5c10cc3faf9180",
    "collapsed": true
   },
   "outputs": [],
   "source": [
    "g = sns.FacetGrid(train_x, col='Survived')\n",
    "g.map(plt.hist, 'Age', bins=20);"
   ]
  },
  {
   "cell_type": "markdown",
   "metadata": {
    "_cell_guid": "6a781b15-3d70-4b98-87d5-e474cc341b96",
    "_uuid": "84e9ec7fce981e477573e3dc357960739c3e71c5"
   },
   "source": [
    "For 'Fare', we will use the same, `make_bins`, method:"
   ]
  },
  {
   "cell_type": "code",
   "execution_count": null,
   "metadata": {
    "_cell_guid": "06ba5e15-61bb-4a82-8320-fb65daaf1d6a",
    "_uuid": "aac04a48ed7962a739be4c7a566ad878505af377",
    "collapsed": true
   },
   "outputs": [],
   "source": [
    "t = make_bins(train_x, 'Fare', 10)\n",
    "sns.barplot(x=\"Fare\", y=\"Survived\", data=t);"
   ]
  },
  {
   "cell_type": "markdown",
   "metadata": {
    "_cell_guid": "e351a4a8-a89d-4365-b86c-d09960be51f8",
    "_uuid": "5ab4cec341a12423e6a1797f520010b9512055b2"
   },
   "source": [
    "Even though small prices don't have much chance of surviving, the top prices seem to correlate to survivability at random. Still, we need to investigate this further in case there is some value to 'Fare'. If we listen to our instincts, it seems reasonable that a high fare means better passenger class. Maybe this is how 'Fare' ties in to survivability."
   ]
  },
  {
   "cell_type": "code",
   "execution_count": null,
   "metadata": {
    "_cell_guid": "4489506b-5faa-4ff4-9571-3da44c6cb593",
    "_uuid": "21a177d01d7cfe9c0854445cdce28db5cd4f40a5",
    "collapsed": true
   },
   "outputs": [],
   "source": [
    "sns.barplot(x=\"Pclass\", y=\"Fare\", data=t);"
   ]
  },
  {
   "cell_type": "markdown",
   "metadata": {
    "_cell_guid": "ef7786d4-c103-4017-9105-ae4ab3e3bf88",
    "_uuid": "9b3152c06ddb39b22649ce9799e8c0b13ae54cb0"
   },
   "source": [
    "Indeed, the 1st class is more expensive, which makes sense. So, even though it seems that 'Fare' is not such a terrible indicator, after we snooped around we revealed that 'Fare' was 'Pclass' in disguise. Since we want to reduce dimensionality as much as possible, we will only use 'Pclass' and drop 'Fare'.\n",
    "\n",
    "We have one more feature remaining, 'Embarked':"
   ]
  },
  {
   "cell_type": "code",
   "execution_count": null,
   "metadata": {
    "_cell_guid": "45affef6-379e-43c5-98d0-d56c48ca18fa",
    "_uuid": "fd776fe1d99682ee3577dc52a346e84a6ee85b6b",
    "collapsed": true
   },
   "outputs": [],
   "source": [
    "sns.barplot(x=\"Embarked\", y=\"Survived\", data=train_x);"
   ]
  },
  {
   "cell_type": "markdown",
   "metadata": {
    "_cell_guid": "0662db1c-b0ae-4ed6-8350-938719115b29",
    "_uuid": "f55bec4688c756f774509e2e0ac4b251e0e50170"
   },
   "source": [
    "It does seem that those that embarked from 'C' have a higher chance of survival, so maybe we need to look further into this. Maybe the different embarkation points have different prices and that is what makes 'C' stand out."
   ]
  },
  {
   "cell_type": "code",
   "execution_count": null,
   "metadata": {
    "_cell_guid": "2eb322cb-2ff4-42c3-96e4-62a002d7cf54",
    "_uuid": "a6cd501cdc2c775a06c7572ade349d5c91b32868",
    "collapsed": true
   },
   "outputs": [],
   "source": [
    "sns.barplot(x=\"Embarked\", y=\"Fare\", data=train_x);"
   ]
  },
  {
   "cell_type": "markdown",
   "metadata": {
    "_cell_guid": "ea334a46-a8d6-40f1-b71a-5c885d6e5e5b",
    "_uuid": "1bd02b06659a6cf6597822ba7e1532dc4f44de44"
   },
   "source": [
    "As we can see, the port correlates to the fare, which is 'Pclass' in disguise. Thus, we can safely drop this feature as well to reduce computational strain.\n",
    "\n",
    "### Adding a feature of our own\n",
    "\n",
    "Before we continues, let's consider another route. What if we were to create a feature of our own using data from above? In a lot of cases, this can be useful.\n",
    "\n",
    "Remember that there is still a feature we haven't used: 'Name'. It doesn't really make much sense to use it, since a name cannot possibly be a factor in one's survival. But let's take a closer look, there is something interesting hiding between the lines..."
   ]
  },
  {
   "cell_type": "code",
   "execution_count": null,
   "metadata": {
    "_cell_guid": "49e8fe96-18a8-4a51-85ea-b8b7daadc09b",
    "_uuid": "51dc711d8a16abe53af7a9cd8a740041260a258f",
    "collapsed": true
   },
   "outputs": [],
   "source": [
    "train_x.head(3)"
   ]
  },
  {
   "cell_type": "markdown",
   "metadata": {
    "_cell_guid": "d06ce8a3-db33-4c8b-b04e-e77bc6620cd1",
    "_uuid": "b2d5ebe81357d75a923237cf82fdc93ad4121da4"
   },
   "source": [
    "Notice how the 'Name' column holds not only the actual name, but the *title* of the person too ('Mr.', 'Mrs.', etc.). That sounds kind of useful. Surely a lord of sorts would get in the lifeboats earlier, right? Let's see if that hypothesis is true.\n",
    "\n",
    "First we will need to extract that information. Thankfully, `pandas` allows us to quickly parse a dataset using regular expressions."
   ]
  },
  {
   "cell_type": "code",
   "execution_count": null,
   "metadata": {
    "_cell_guid": "0f54dde7-c239-4adb-9b34-323bbd95365f",
    "_uuid": "67b073fe300f1508e74b9ca4033f9fb4d42d2d18",
    "collapsed": true
   },
   "outputs": [],
   "source": [
    "train_x['Title'] = train_x.Name.str.extract(' ([A-Za-z]+)\\.', expand=False)"
   ]
  },
  {
   "cell_type": "markdown",
   "metadata": {
    "_cell_guid": "3f582d5a-2d04-429f-898b-3949e2a5d1db",
    "_uuid": "ebacf45b75ee52671652c50fa84843f91ea03295"
   },
   "source": [
    "We extracted all the titles from the 'Name' column, using a regular expression that matches parts of the field that start with a space and end with a period.\n",
    "\n",
    "Below we can see how many times each title appears."
   ]
  },
  {
   "cell_type": "code",
   "execution_count": null,
   "metadata": {
    "_cell_guid": "a64aded0-78b8-47ba-9e20-198f58b78603",
    "_uuid": "9aa4111eaaf5e0bb2109400c0cf74b9f7aef7825",
    "collapsed": true
   },
   "outputs": [],
   "source": [
    "train_x['Title'].value_counts()"
   ]
  },
  {
   "cell_type": "markdown",
   "metadata": {
    "_cell_guid": "1719f6d2-fe14-4ff3-ac15-68aea6ed8c1a",
    "_uuid": "ea122a91cc630c8d346c16b706b6dafd24e56afe"
   },
   "source": [
    "The top four values appear a lot, while the rest don't appear that often. We need to clean this up, since that many different values may cause some trouble. We will merge the values that appear the least amount of times into a new title, called 'Rare'.\n",
    "\n",
    "We will also merge 'Ms' and 'Mlle' to 'Miss', since we know that they all mean the same thing, and 'Mme' to 'Mrs' for the same reason."
   ]
  },
  {
   "cell_type": "code",
   "execution_count": null,
   "metadata": {
    "_cell_guid": "55bc33a7-7851-404a-8666-5f945933d548",
    "_uuid": "00083a34e383fd4abf62e52a3300dd214dfd7bd6",
    "collapsed": true
   },
   "outputs": [],
   "source": [
    "train_x['Title'] = train_x['Title'].replace(['Lady', 'Countess','Capt', 'Col', 'Don',\\\n",
    "                                             'Dr', 'Major', 'Rev', 'Sir', 'Jonkheer', 'Dona'],\\\n",
    "                                             'Rare')\n",
    "train_x['Title'] = train_x['Title'].replace('Mlle', 'Miss')\n",
    "train_x['Title'] = train_x['Title'].replace('Ms', 'Miss')\n",
    "train_x['Title'] = train_x['Title'].replace('Mme', 'Mrs')"
   ]
  },
  {
   "cell_type": "markdown",
   "metadata": {
    "_cell_guid": "454bb287-0d64-4a07-8466-40dced694909",
    "_uuid": "99ff38df050e5279e445fbd96c33009cc7b1fc64"
   },
   "source": [
    "Let's now see if 'Title' is a good indicator:"
   ]
  },
  {
   "cell_type": "code",
   "execution_count": null,
   "metadata": {
    "_cell_guid": "d51e4b4b-387c-4b9b-8cfc-a33c8b94d4e5",
    "_uuid": "4a941aa12710e7f73ac04b83a3e8e50e7d99dd16",
    "collapsed": true
   },
   "outputs": [],
   "source": [
    "sns.barplot(x=\"Title\", y=\"Survived\", data=train_x);"
   ]
  },
  {
   "cell_type": "markdown",
   "metadata": {
    "_cell_guid": "53b163da-ffca-4144-b710-d2a5586f9af5",
    "_uuid": "36b525efdc0da63334893cf61cc3f9255e9827aa"
   },
   "source": [
    "It seems that we do get a bit more information. Whereas men generally didn't survive, those that had the title 'Master' did at almost 60%. There were also men that survived at a higher rate with a 'Rare' title. Thus, this seems like a good feature to add to our model.\n",
    "\n",
    "Now we just need to convert these values to numerical, so that we can use them to fit our model. The little snippet of code that does this is the following:"
   ]
  },
  {
   "cell_type": "code",
   "execution_count": null,
   "metadata": {
    "_cell_guid": "bce5cd7d-4b90-4fdb-808c-5168ab4597de",
    "_uuid": "d944333d0e810f679df6cd093b4c6c98958ec3c1",
    "collapsed": true
   },
   "outputs": [],
   "source": [
    "_, train_x['Title'] = np.unique(train_x['Title'], return_inverse=True)"
   ]
  },
  {
   "cell_type": "markdown",
   "metadata": {
    "_cell_guid": "8a548bbc-3f95-4f09-8e07-eeb6dd7e9d01",
    "_uuid": "fc31dc29ac54f242d218a8580faff37f8cd8ea6f"
   },
   "source": [
    "### Features to Pick\n",
    "\n",
    "From the above results, we see that 'Pclass' and 'Sex' are good indicators, while 'Age' is so-so. In our model, we will pick the good indicators plus the feature we just created, 'Title'. If the results are not that good, we may consider adding 'Age' in the mix and seeing what comes out (note: I *did* use 'Age', and the results did not improve; in some models they even got worse).\n",
    "\n",
    "Onward to cleaning our data!"
   ]
  },
  {
   "cell_type": "markdown",
   "metadata": {
    "_cell_guid": "55096f6b-6011-4e83-aa6a-9cd96178dc93",
    "_uuid": "86a9b513750a36cabdd45b620e434cc000018e5f"
   },
   "source": [
    "## Cleaning Up\n",
    "\n",
    "Now that we picked the features we want to use, we need to clean up our dataset.\n",
    "\n",
    "First, we will drop the features we will not need:"
   ]
  },
  {
   "cell_type": "code",
   "execution_count": null,
   "metadata": {
    "_cell_guid": "fc9d6d43-e84d-45b3-9dc9-2069e5e5c002",
    "_uuid": "1a69efda43579e95413d5b1a56efcd8a350cccb5",
    "collapsed": true
   },
   "outputs": [],
   "source": [
    "train_x.drop(['SibSp', 'Parch', 'Ticket', 'Embarked', 'Name',\\\n",
    "        'Cabin', 'PassengerId', 'Fare', 'Age'], inplace=True, axis=1)"
   ]
  },
  {
   "cell_type": "markdown",
   "metadata": {
    "_cell_guid": "ae6f31a0-068c-4840-9b88-57cc42aab7ae",
    "_uuid": "bc7cdf4ff740962cbcdff0899b2ce51f367824b9"
   },
   "source": [
    "Next we will drop the null values:"
   ]
  },
  {
   "cell_type": "code",
   "execution_count": null,
   "metadata": {
    "_cell_guid": "9a89a2eb-6cc6-4197-a7df-573b5df26ada",
    "_uuid": "ee9548466d39f51ca70d77a5d470195e9f9ad602",
    "collapsed": true
   },
   "outputs": [],
   "source": [
    "train_x.dropna(inplace=True)"
   ]
  },
  {
   "cell_type": "markdown",
   "metadata": {
    "_cell_guid": "bd78ca00-cc55-45db-8506-76471f3e9064",
    "_uuid": "b257b68e5aeb655546003ca16ae4657706f306e2"
   },
   "source": [
    "Finally, we also need to convert 'Sex' to numerical values:"
   ]
  },
  {
   "cell_type": "code",
   "execution_count": null,
   "metadata": {
    "_cell_guid": "ffa58b07-1fea-40e9-bd13-d5567cf74e61",
    "_uuid": "da6debdfc1a1d679a0a52985645851f4b50614e2",
    "collapsed": true
   },
   "outputs": [],
   "source": [
    "_, train_x['Sex'] = np.unique(train_x['Sex'], return_inverse=True)"
   ]
  },
  {
   "cell_type": "markdown",
   "metadata": {
    "_cell_guid": "0fe3b763-6be2-47ed-b18c-a731b727205b",
    "_uuid": "17741a84c8d950e12bd7cf3248f4dcb1f3f5e7b6"
   },
   "source": [
    "With that out of the way, we need to separate our dataset into features and target (the target in this case is 'Survived'). That way we can input the features into the model and compare the result to the corresponding target. Also, the target list should be a 1D array, which is the form Keras requires."
   ]
  },
  {
   "cell_type": "code",
   "execution_count": null,
   "metadata": {
    "_cell_guid": "d8692b76-0aca-45cb-a9ea-35ace28d3f5e",
    "_uuid": "a318550b5e4b4e45934dbb1059338c1884dc1075",
    "collapsed": true
   },
   "outputs": [],
   "source": [
    "train_y = np.ravel(train_x.Survived) # Make 1D\n",
    "train_x.drop(['Survived'], inplace=True, axis=1)"
   ]
  },
  {
   "cell_type": "markdown",
   "metadata": {
    "_cell_guid": "e4e05b66-3f13-40bb-a3fc-9eae2a12b2d6",
    "_uuid": "2473c6516a0ee2b9b0b3d859978bf56cd8d87eb6"
   },
   "source": [
    "And voila! Our dataset is ready. Let's build our Keras model."
   ]
  },
  {
   "cell_type": "markdown",
   "metadata": {
    "_cell_guid": "cbdf1591-4e5c-45ec-9363-ac744a89413e",
    "_uuid": "e9290845a8c7f21d36144e34a1a2ad28c662ffad"
   },
   "source": [
    "## Keras Model\n",
    "\n",
    "The model we will built, as well as most Keras models, will be `Sequential`.\n",
    "\n",
    "We know that since the problem is a binary classification problem, we will need a sigmoid outer layer. Before that, we will add two fully-connected (`Dense`) layers that use `ReLU` as their activation function."
   ]
  },
  {
   "cell_type": "code",
   "execution_count": null,
   "metadata": {
    "_cell_guid": "5166e8a3-a8f0-4a0d-a009-f13638fe105c",
    "_uuid": "a35b0bafb9e7c7d9538b0a9a19449421159ac2a1",
    "collapsed": true
   },
   "outputs": [],
   "source": [
    "from keras.models import Sequential\n",
    "from keras.layers import Dense\n",
    "\n",
    "model = Sequential()\n",
    "\n",
    "model.add(Dense(16, activation='relu', input_shape=(3,)))\n",
    "model.add(Dense(8, activation='relu'))\n",
    "model.add(Dense(1, activation='sigmoid'))"
   ]
  },
  {
   "cell_type": "markdown",
   "metadata": {
    "_cell_guid": "fbd01df9-cd77-42be-b96d-74092b013251",
    "_uuid": "9da7a94b3555b5811533e876ee371567e655cf70"
   },
   "source": [
    "Next we will compile our network. We have two target classes, so we will use the binary cross-entropy loss function. the `adam` optimizer is a good default gradient-descent option, and the metric will be the humble accuracy."
   ]
  },
  {
   "cell_type": "code",
   "execution_count": null,
   "metadata": {
    "_cell_guid": "43b95ff0-e9dc-4ccc-a169-2fdb73cbdbac",
    "_uuid": "f186ad00eaf1d83ba93d9d60c520d382aa9a5b98",
    "collapsed": true
   },
   "outputs": [],
   "source": [
    "model.compile(loss='binary_crossentropy',\n",
    "              optimizer='adam',\n",
    "              metrics=['accuracy'])"
   ]
  },
  {
   "cell_type": "markdown",
   "metadata": {
    "_cell_guid": "01a22ce3-26fc-4956-9612-0de9b3aa9d62",
    "_uuid": "1eebd579f7ca0fcd5a2f32bf83843a5ea8978086"
   },
   "source": [
    "Only thing that remains is to fit our model with the given data:"
   ]
  },
  {
   "cell_type": "code",
   "execution_count": null,
   "metadata": {
    "_cell_guid": "2d15250b-3b24-46e9-a4c6-655ccada56f2",
    "_uuid": "117e8b5532eaeb8079588d104c9fd2ed15def60d",
    "collapsed": true
   },
   "outputs": [],
   "source": [
    "model.fit(train_x, train_y, epochs=50, batch_size=1, verbose=1)"
   ]
  },
  {
   "cell_type": "markdown",
   "metadata": {
    "_cell_guid": "b476f5ad-3adb-400b-9d4d-01e6ee7e15ef",
    "_uuid": "2cba7752e63978cf435c9293b95015584a292045"
   },
   "source": [
    "We seem to have about 80% accuracy on our training data. Quite probably this will drop a bit in the test data, but it seems good enough for our little model.\n",
    "\n",
    "Let's now prepare the testing dataset, similarly to how we prepared the training one.\n",
    "\n",
    "*NOTE: If you want to save the weights, you can execute this line: `model.save_weights('weights.h5')`.*"
   ]
  },
  {
   "cell_type": "code",
   "execution_count": null,
   "metadata": {
    "_cell_guid": "c3cfa4f2-255a-4fa7-829c-5922c2b25007",
    "_uuid": "a62c8f25bc76bf06e6b6ef1e653abfbe6da404c1",
    "collapsed": true
   },
   "outputs": [],
   "source": [
    "to_test = test_x.copy(True)\n",
    "\n",
    "# Add Title\n",
    "to_test['Title'] = to_test.Name.str.extract(' ([A-Za-z]+)\\.', expand=False)\n",
    "to_test['Title'] = to_test['Title'].replace(['Lady', 'Countess','Capt', 'Col', 'Don',\\\n",
    "                                                'Dr', 'Major', 'Rev', 'Sir', 'Jonkheer', 'Dona'],\\\n",
    "                                                'Rare')\n",
    "to_test['Title'] = to_test['Title'].replace('Mlle', 'Miss')\n",
    "to_test['Title'] = to_test['Title'].replace('Ms', 'Miss')\n",
    "to_test['Title'] = to_test['Title'].replace('Mme', 'Mrs')\n",
    "\n",
    "_, to_test['Title'] = np.unique(to_test['Title'], return_inverse=True)\n",
    "\n",
    "# Clean Data\n",
    "to_test = to_test.drop(['SibSp', 'Parch', 'Ticket', 'Embarked', 'Name', 'Cabin',\\\n",
    "                        'PassengerId', 'Fare', 'Age'], axis=1)\n",
    "_, to_test['Sex'] = np.unique(test_x['Sex'], return_inverse=True)"
   ]
  },
  {
   "cell_type": "markdown",
   "metadata": {
    "_cell_guid": "a51add20-88fa-48fd-989c-77d88f0bba37",
    "_uuid": "c7dae7503ca414bdc093a19b64cc435419654d3c"
   },
   "source": [
    "Note that since we are going to need the id of the passengers for our submission, we need to copy `test_x` to a temporary dataset. If we made the changes to `test_x` directly, we would lose `PassengerId`, since we drop it.\n",
    "\n",
    "Finally it is time to test our model!"
   ]
  },
  {
   "cell_type": "code",
   "execution_count": null,
   "metadata": {
    "_cell_guid": "82746a85-b847-4f6a-890f-757591ccf0b2",
    "_uuid": "fafd7e3b97e5cb2decce759e8f7cdc7c4c09193a",
    "collapsed": true
   },
   "outputs": [],
   "source": [
    "predictions = model.predict_classes(to_test).flatten()\n",
    "predictions[:5]"
   ]
  },
  {
   "cell_type": "markdown",
   "metadata": {
    "_cell_guid": "81925cc0-dda2-43dd-9c34-9e4cad1c0346",
    "_uuid": "d97bd45880beb5f02a60b6b7d1c79ecd82388702"
   },
   "source": [
    "To make our lives easier, we flattened the array. We also show the first five values. Only thing we need to do is write this to a `.csv` and submit it:"
   ]
  },
  {
   "cell_type": "code",
   "execution_count": null,
   "metadata": {
    "_cell_guid": "590250ed-1404-42ef-9ccd-5c4f1e7d0deb",
    "_uuid": "dc73e4429830574c9a41698e43aa21a8a8249609",
    "collapsed": true
   },
   "outputs": [],
   "source": [
    "submission = pd.DataFrame({\n",
    "    \"PassengerId\": test_x[\"PassengerId\"],\n",
    "    \"Survived\": predictions\n",
    "})\n",
    "submission.to_csv('submission.csv', index=False)"
   ]
  },
  {
   "cell_type": "markdown",
   "metadata": {
    "_cell_guid": "21f44dda-cf9b-4cf7-b457-ea32fb259282",
    "_uuid": "b003265592d1d745a4fc0765919064d5a02eaa8b"
   },
   "source": [
    "## Conclusion\n",
    "\n",
    "And that is all.\n",
    "\n",
    "We visualized our data, found the best features to use, created a feature of our own, build our model and submitted our results. Even though the model is quite simple, it gave about 75% accuracy on the test. Not bad for the little buddy.\n",
    "\n",
    "You might be thinking that we could increase the results by adding more layers, neurons and epochs. Maybe, but this was my initial approach and I can tell you it didn't work that well. That is because the dataset is quite small and my bigger model overfit. So, I went back to a simpler model and I found that the results were better.\n",
    "\n",
    "So, bigger is not always better when it comes to Deep Learning models."
   ]
  }
 ],
 "metadata": {
  "kernelspec": {
   "display_name": "Python 3",
   "language": "python",
   "name": "python3"
  },
  "language_info": {
   "codemirror_mode": {
    "name": "ipython",
    "version": 3
   },
   "file_extension": ".py",
   "mimetype": "text/x-python",
   "name": "python",
   "nbconvert_exporter": "python",
   "pygments_lexer": "ipython3",
<<<<<<< Updated upstream
   "version": "3.8.5"
=======
   "version": "3.7.7"
>>>>>>> Stashed changes
  }
 },
 "nbformat": 4,
 "nbformat_minor": 1
}
