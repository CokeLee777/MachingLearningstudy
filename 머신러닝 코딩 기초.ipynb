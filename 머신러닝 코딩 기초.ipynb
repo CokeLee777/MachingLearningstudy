{
 "cells": [
  {
   "cell_type": "markdown",
   "metadata": {},
   "source": [
    "# 1. 수치미분 코딩"
   ]
  },
  {
   "cell_type": "markdown",
   "metadata": {},
   "source": [
    "##### 1-1 입력변수가 1개"
   ]
  },
  {
   "cell_type": "code",
   "execution_count": 4,
   "metadata": {},
   "outputs": [],
   "source": [
    "def numerical_dervative_1(f, x): #f는 미분하려는 함수, x는 미분 값을 알고자 하는 입력값\n",
    "    delta_x = 1e-4 #lim에 해당되는 작은 값\n",
    "    return (f(x+delta_x) - f(x-delta_x)) / (2*delta_x)"
   ]
  },
  {
   "cell_type": "markdown",
   "metadata": {},
   "source": [
    "##### 1-2 다변수 함수"
   ]
  },
  {
   "cell_type": "code",
   "execution_count": 2,
   "metadata": {},
   "outputs": [],
   "source": [
    "import numpy as np"
   ]
  },
  {
   "cell_type": "code",
   "execution_count": 14,
   "metadata": {},
   "outputs": [],
   "source": [
    "def numerical_derivative_2(f, x): #f는 다변수 함수, x는 모든 변수를 포함하는 배열/객체\n",
    "    delta_x = 1e-4\n",
    "    grad = np.zeros_like(x) #계산된 수치미분 값 저장 변수, 현재 0으로 초기화\n",
    "    \n",
    "    it = np.nditer(x, flags=['multi_index'], op_flags=['readwrite'])\n",
    "    #모든 입력변수에 대해 편미분하기 위해 iterator 획득\n",
    "    while not it.finished: #변수의 개수 만큼 반복\n",
    "        idx = it.multi_index\n",
    "        \n",
    "        tmp_val = x[idx] # 원본값 보관을 위해 임시 변수 선언\n",
    "        x[idx] = float(tmp_val) + delta_x\n",
    "        fx1 = f(x)\n",
    "        \n",
    "        x[idx] = tmp_val - delta_x\n",
    "        fx2 = f(x)\n",
    "        grad[idx] = (fx1 - fx2) / (2*delta_x)\n",
    "        \n",
    "        x[idx] = tmp_val #원본값 복원\n",
    "        it.iternext()\n",
    "        print(grad)"
   ]
  },
  {
   "cell_type": "markdown",
   "metadata": {},
   "source": [
    "##### 1-3 예제"
   ]
  },
  {
   "cell_type": "code",
   "execution_count": 15,
   "metadata": {},
   "outputs": [
    {
     "name": "stdout",
     "output_type": "stream",
     "text": [
      "[8. 0.]\n",
      "[ 8.         15.00000001]\n"
     ]
    }
   ],
   "source": [
    "#변수가 2개일 때\n",
    "def func1(input_obj):\n",
    "    x = input_obj[0]\n",
    "    y = input_obj[1]\n",
    "    return (2*x + 3*x*y + np.power(y,3))\n",
    "\n",
    "input = np.array([1.0, 2.0])\n",
    "numerical_derivative_2(func1, input)"
   ]
  },
  {
   "cell_type": "code",
   "execution_count": 17,
   "metadata": {},
   "outputs": [
    {
     "name": "stdout",
     "output_type": "stream",
     "text": [
      "[[5. 0.]\n",
      " [0. 0.]]\n",
      "[[ 5. 13.]\n",
      " [ 0.  0.]]\n",
      "[[ 5. 13.]\n",
      " [32.  0.]]\n",
      "[[ 5. 13.]\n",
      " [32. 15.]]\n"
     ]
    }
   ],
   "source": [
    "#변수가 4개일 때\n",
    "def func2(input_obj):\n",
    "    w = input_obj[0,0]\n",
    "    x = input_obj[0,1]\n",
    "    y = input_obj[1,0]\n",
    "    z = input_obj[1,1]\n",
    "    \n",
    "    return (w*x + x*y*z + 3*w + z*np.power(y,2))\n",
    "\n",
    "input = np.array([[1.0, 2.0], [3.0, 4.0]])\n",
    "\n",
    "numerical_derivative_2(func2, input)"
   ]
  }
 ],
 "metadata": {
  "kernelspec": {
   "display_name": "Python 3",
   "language": "python",
   "name": "python3"
  },
  "language_info": {
   "codemirror_mode": {
    "name": "ipython",
    "version": 3
   },
   "file_extension": ".py",
   "mimetype": "text/x-python",
   "name": "python",
   "nbconvert_exporter": "python",
   "pygments_lexer": "ipython3",
   "version": "3.7.7"
  }
 },
 "nbformat": 4,
 "nbformat_minor": 4
}
